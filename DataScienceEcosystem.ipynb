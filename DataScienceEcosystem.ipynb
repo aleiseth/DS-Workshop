{
 "cells": [
  {
   "cell_type": "markdown",
   "id": "3e836c48",
   "metadata": {},
   "source": [
    "# Data Science Tools and Ecosystem"
   ]
  },
  {
   "cell_type": "markdown",
   "id": "0284f07f",
   "metadata": {},
   "source": [
    "## Author\n",
    "Annika Leiseth"
   ]
  },
  {
   "cell_type": "markdown",
   "id": "f9d9544d",
   "metadata": {},
   "source": [
    "In this notebook, Data Science Tools and Ecosystem are summarized."
   ]
  },
  {
   "cell_type": "markdown",
   "id": "b8f9e9fc",
   "metadata": {},
   "source": [
    "**Objectives**\n",
    "\n",
    "+ List popular languages for data science\n",
    "+ List popular libraries for data science\n",
    "+ List useful tools for data science\n",
    "+ Demonstrate basic arithmetic"
   ]
  },
  {
   "cell_type": "markdown",
   "id": "187cd833",
   "metadata": {},
   "source": [
    "Some of the popular languages that Data Scientists use are:\n",
    "    1. R\n",
    "    2. Python\n",
    "    3. SQL\n",
    "    4. Julia\n",
    "    5. Java"
   ]
  },
  {
   "cell_type": "markdown",
   "id": "7c57a0ef",
   "metadata": {},
   "source": [
    "Some of the commonly used libraries used by Data Scientists include:\n",
    "    1. Pandas\n",
    "    2. NumPy\n",
    "    3. Matplotlib\n",
    "    4. TensorFlow\n",
    "    5. PyTorch"
   ]
  },
  {
   "cell_type": "markdown",
   "id": "f2e35b05",
   "metadata": {},
   "source": [
    "### Data Science Tools\n",
    "---------------------\n",
    "Jupyter Notebook\n",
    "ApacheSpark\n",
    "IBM Watson Studio"
   ]
  },
  {
   "cell_type": "markdown",
   "id": "2de13a7d",
   "metadata": {},
   "source": [
    "### Below are a few examples of evaluating arithmetic expressions in Python"
   ]
  },
  {
   "cell_type": "markdown",
   "id": "8d7b7414",
   "metadata": {},
   "source": [
    "This a simple arithmetic expression to mutiply then add integers."
   ]
  },
  {
   "cell_type": "code",
   "execution_count": 3,
   "id": "31eea2ee",
   "metadata": {},
   "outputs": [
    {
     "data": {
      "text/plain": [
       "17"
      ]
     },
     "execution_count": 3,
     "metadata": {},
     "output_type": "execute_result"
    }
   ],
   "source": [
    "(3*4)+5"
   ]
  },
  {
   "cell_type": "markdown",
   "id": "dd60603a",
   "metadata": {},
   "source": [
    "This will convert 200 minutes to hours by diving by 60"
   ]
  },
  {
   "cell_type": "code",
   "execution_count": 5,
   "id": "42b24c9f",
   "metadata": {},
   "outputs": [
    {
     "name": "stdout",
     "output_type": "stream",
     "text": [
      "3.3333333333333335\n"
     ]
    }
   ],
   "source": [
    "time_in_minutes = 200\n",
    "one_hour = 60\n",
    "time_in_hours = time_in_minutes/one_hour\n",
    "print(time_in_hours)"
   ]
  }
 ],
 "metadata": {
  "kernelspec": {
   "display_name": "Python 3 (ipykernel)",
   "language": "python",
   "name": "python3"
  },
  "language_info": {
   "codemirror_mode": {
    "name": "ipython",
    "version": 3
   },
   "file_extension": ".py",
   "mimetype": "text/x-python",
   "name": "python",
   "nbconvert_exporter": "python",
   "pygments_lexer": "ipython3",
   "version": "3.10.9"
  }
 },
 "nbformat": 4,
 "nbformat_minor": 5
}
